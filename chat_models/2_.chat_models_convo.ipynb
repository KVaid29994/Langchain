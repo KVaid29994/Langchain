{
 "cells": [
  {
   "cell_type": "markdown",
   "id": "28ef6598",
   "metadata": {},
   "source": [
    "# 💬 Message Types in LangChain\n",
    "\n",
    "LangChain uses a set of standardized message types to facilitate communication between agents, tools, and chains.\n",
    "\n",
    "---"
   ]
  },
  {
   "cell_type": "markdown",
   "id": "25816ed9",
   "metadata": {},
   "source": [
    "## 1. 🧑 HumanMessage\n",
    "- **Description:** Represents a message from a human user.\n",
    "- **Example:**\n",
    "  ```python\n",
    "  from langchain.schema import HumanMessage\n",
    "  HumanMessage(content=\"What is the weather today?\")\n",
    "\n",
    "\n",
    "---\n",
    "\n",
    "## 2. 🤖 AIMessage\n",
    "\n",
    "- **Description:** Represents a message from the AI or language model.\n",
    "- **Example:**\n",
    "\n",
    "``` python \n",
    "from langchain.schema import AIMessage\n",
    "AIMessage(content=\"The weather today is sunny.\")"
   ]
  },
  {
   "cell_type": "markdown",
   "id": "bb29c95f",
   "metadata": {},
   "source": [
    "---"
   ]
  },
  {
   "cell_type": "markdown",
   "id": "4dcb50a0",
   "metadata": {},
   "source": [
    "## 3. 📦 SystemMessage\n",
    "Description: Used to provide system-level instructions or context to the model (e.g., setting behavior or tone).\n",
    "\n",
    "``` python \n",
    "\n",
    "from langchain.schema import SystemMessage\n",
    "SystemMessage(content=\"You are a helpful assistant.\")"
   ]
  },
  {
   "cell_type": "markdown",
   "id": "a6b81c1e",
   "metadata": {},
   "source": [
    "---\n",
    "\n",
    "## 4. 🧠 FunctionMessage\n",
    "\n",
    "- Description: Contains the result returned from a function/tool call.\n",
    "\n",
    "- Typically used with: OpenAI functions or tool integrations.\n",
    "\n",
    "Example:\n",
    "``` python\n",
    "\n",
    "from langchain.schema.messages import FunctionMessage\n",
    "FunctionMessage(name=\"get_weather\", content=\"{'temperature': '22°C'}\")"
   ]
  },
  {
   "cell_type": "markdown",
   "id": "81562338",
   "metadata": {},
   "source": [
    "---\n",
    "\n",
    "## 5. 🛠 ToolMessage\n",
    "\n",
    "- Description: Represents output from a tool used in an agent's execution.\n",
    "- Similar to: FunctionMessage, but for LangChain tools.\n",
    "\n",
    "\n",
    "``` python \n",
    "\n",
    "from langchain.schema.messages import ToolMessage\n",
    "ToolMessage(tool_call_id=\"123\", content=\"Here's the search result...\")"
   ]
  },
  {
   "cell_type": "markdown",
   "id": "06be1998",
   "metadata": {},
   "source": []
  },
  {
   "cell_type": "code",
   "execution_count": 4,
   "id": "d0164b80",
   "metadata": {},
   "outputs": [],
   "source": [
    "from langchain_core.messages import SystemMessage, AIMessage, HumanMessage"
   ]
  },
  {
   "cell_type": "code",
   "execution_count": 9,
   "id": "ccc7446c",
   "metadata": {},
   "outputs": [],
   "source": [
    "messages = [ SystemMessage(\"You are an expert in social media marketing stratergy\"),\n",
    "            \n",
    "            HumanMessage(\"give me a short tip to create engaging insta post\"),\n",
    "            AIMessage(\"One tip for creating engaging Instagram posts is to use high-quality visually appealing images or videos that are relevant to your audience's interests. Remember to also include a clear and concise caption that adds value, asks a question, or encourages interaction to spark engagement with your followers.\"\n",
    "                      ),\n",
    "            HumanMessage(\"What are tools to make such posts?\"\n",
    "            )\n",
    "\n",
    "\n",
    "]"
   ]
  },
  {
   "cell_type": "code",
   "execution_count": 10,
   "id": "5a46488d",
   "metadata": {},
   "outputs": [
    {
     "name": "stdout",
     "output_type": "stream",
     "text": [
      "There are several tools available to help you create engaging Instagram posts. Some popular ones include:\n",
      "\n",
      "1. Canva: Canva is a user-friendly design tool that provides templates and tools to create visually appealing graphics for social media posts.\n",
      "\n",
      "2. Adobe Spark: Adobe Spark offers easy-to-use tools for creating graphics, web pages, and videos. It provides templates and customization options to suit your branding and content needs.\n",
      "\n",
      "3. VSCO: VSCO is a photo editing app that allows you to enhance and edit your photos with filters, effects, and adjustments to create visually stunning images for Instagram.\n",
      "\n",
      "4. Unfold: Unfold is a mobile app that offers a variety of stylish templates for creating visually engaging Instagram Stories. It can help you design cohesive and professional-looking Stories.\n",
      "\n",
      "5. Later: Later is a social media scheduling tool that allows you to plan and schedule your Instagram posts in advance. It also provides analytics to track your post performance and audience engagement.\n",
      "\n",
      "These tools can help you create eye-catching and effective Instagram posts that will attract and engage your audience.\n"
     ]
    }
   ],
   "source": [
    "from langchain_openai import ChatOpenAI\n",
    "from dotenv import load_dotenv\n",
    "load_dotenv()\n",
    "\n",
    "llm = ChatOpenAI()\n",
    "\n",
    "result = llm.invoke(messages)\n",
    "print (result.content)"
   ]
  },
  {
   "cell_type": "code",
   "execution_count": null,
   "id": "3c527e35",
   "metadata": {},
   "outputs": [],
   "source": []
  }
 ],
 "metadata": {
  "kernelspec": {
   "display_name": "venv",
   "language": "python",
   "name": "python3"
  },
  "language_info": {
   "codemirror_mode": {
    "name": "ipython",
    "version": 3
   },
   "file_extension": ".py",
   "mimetype": "text/x-python",
   "name": "python",
   "nbconvert_exporter": "python",
   "pygments_lexer": "ipython3",
   "version": "3.12.6"
  }
 },
 "nbformat": 4,
 "nbformat_minor": 5
}
