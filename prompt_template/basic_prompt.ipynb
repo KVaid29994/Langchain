{
 "cells": [
  {
   "cell_type": "markdown",
   "id": "d444b041",
   "metadata": {},
   "source": [
    "### 🧠 LangChain Prompt Templates\n",
    "\n",
    "In LangChain, PromptTemplate is used to define reusable prompts for Language Models (LLMs). Instead of hardcoding prompts, PromptTemplate lets you create structured, dynamic prompts where inputs are filled in at runtime.\n",
    "\n",
    "- 🧩 Components of PromptTemplate\n",
    "> input_variables: A list of expected input keys (e.g., [\"product\"])\n",
    "\n",
    "> template: The raw string with placeholders (e.g., \"Tell me a joke about {topic}\")"
   ]
  },
  {
   "cell_type": "code",
   "execution_count": 1,
   "id": "371779c6",
   "metadata": {},
   "outputs": [],
   "source": [
    "from langchain_openai import ChatOpenAI\n",
    "\n",
    "from dotenv import load_dotenv\n",
    "\n",
    "load_dotenv()\n",
    "\n",
    "llm = ChatOpenAI()"
   ]
  },
  {
   "cell_type": "code",
   "execution_count": 2,
   "id": "dd7b20b3",
   "metadata": {},
   "outputs": [],
   "source": [
    "template = \"Write a {tone} email to {company} expressing interest in the {position} , mentioning {skills} as key strength. keep it 4 lines at max\""
   ]
  },
  {
   "cell_type": "code",
   "execution_count": 3,
   "id": "264415bb",
   "metadata": {},
   "outputs": [],
   "source": [
    "from langchain.prompts import ChatPromptTemplate\n",
    "\n",
    "prompt = ChatPromptTemplate.from_template(template)\n",
    "\n",
    "formatted_prompt = prompt.format(tone=\"polite\",company = \"google\", position = \"SDE\", skills = \"HTML, JAVA,python\")"
   ]
  },
  {
   "cell_type": "code",
   "execution_count": 5,
   "id": "1d08b5e6",
   "metadata": {},
   "outputs": [
    {
     "data": {
      "text/plain": [
       "AIMessage(content='Dear Google team,\\n\\nI am interested in the SDE position and believe my key strengths in HTML, JAVA, and Python make me a strong candidate. I would be grateful for the opportunity to discuss my qualifications further.\\n\\nThank you for considering my application.\\n\\nBest regards, [Your Name]', additional_kwargs={'refusal': None}, response_metadata={'token_usage': {'completion_tokens': 57, 'prompt_tokens': 39, 'total_tokens': 96, 'completion_tokens_details': {'accepted_prediction_tokens': 0, 'audio_tokens': 0, 'reasoning_tokens': 0, 'rejected_prediction_tokens': 0}, 'prompt_tokens_details': {'audio_tokens': 0, 'cached_tokens': 0}}, 'model_name': 'gpt-3.5-turbo-0125', 'system_fingerprint': None, 'id': 'chatcmpl-Bpvu05SBZEwMTRk7dcOYxEJF6BKxv', 'service_tier': 'default', 'finish_reason': 'stop', 'logprobs': None}, id='run--fda2e23b-d284-4b76-9763-3df526a2e5ab-0', usage_metadata={'input_tokens': 39, 'output_tokens': 57, 'total_tokens': 96, 'input_token_details': {'audio': 0, 'cache_read': 0}, 'output_token_details': {'audio': 0, 'reasoning': 0}})"
      ]
     },
     "execution_count": 5,
     "metadata": {},
     "output_type": "execute_result"
    }
   ],
   "source": [
    "llm.invoke(formatted_prompt)"
   ]
  },
  {
   "cell_type": "code",
   "execution_count": null,
   "id": "8ee84350",
   "metadata": {},
   "outputs": [],
   "source": []
  },
  {
   "cell_type": "markdown",
   "id": "bf879af4",
   "metadata": {},
   "source": [
    "### Example 2"
   ]
  },
  {
   "cell_type": "code",
   "execution_count": null,
   "id": "254dcf2a",
   "metadata": {},
   "outputs": [],
   "source": [
    "messages = [(\"system\",\"You are a commedian who tells joke about {topic}\"),\n",
    "            (\"human\",\"tell me {joke_count} jokes\")]\n",
    "\n",
    "prompt_template = ChatPromptTemplate.from_messages(messages=messages)\n",
    "\n",
    "prompt = prompt_template.invoke({\"topic\": \"lawyer\", \"joke_count\":\"5\"})\n",
    "\n",
    "result = llm.invoke(prompt)\n",
    "\n",
    "print (result.content)\n",
    "\n"
   ]
  },
  {
   "cell_type": "code",
   "execution_count": null,
   "id": "b2f3408b",
   "metadata": {},
   "outputs": [],
   "source": []
  },
  {
   "cell_type": "code",
   "execution_count": null,
   "id": "5b550806",
   "metadata": {},
   "outputs": [],
   "source": []
  }
 ],
 "metadata": {
  "kernelspec": {
   "display_name": "venv",
   "language": "python",
   "name": "python3"
  },
  "language_info": {
   "codemirror_mode": {
    "name": "ipython",
    "version": 3
   },
   "file_extension": ".py",
   "mimetype": "text/x-python",
   "name": "python",
   "nbconvert_exporter": "python",
   "pygments_lexer": "ipython3",
   "version": "3.12.6"
  }
 },
 "nbformat": 4,
 "nbformat_minor": 5
}
